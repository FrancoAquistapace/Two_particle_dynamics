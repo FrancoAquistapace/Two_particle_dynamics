{
 "cells": [
  {
   "cell_type": "markdown",
   "id": "459e4d5c",
   "metadata": {},
   "source": [
    "# Two-particle Dynamics\n",
    "\n",
    "We consider two indistinguishable photons or bosonic atoms on a one-dimensional lattice with three sites described by the Bose-Hubbard model:\n",
    "\n",
    "$$\\hat{H} = -J\\sum_{i=1}^2(\\hat{a}_i^\\dagger \\hat{a}_{i+1} + \\hat{a}_{i+1}^\\dagger \\hat{a}_i) + \\frac{U}{2}\\sum_{i=1}^3 \\hat{n}_i(\\hat{n}_i - 1)$$\n",
    "\n",
    "The aim of this problem is to show that there are bound states in this model, known as doublon states, with both particles occupying the same site: $|d_i\\rangle \\equiv \\big(\\hat{a}_i^\\dagger\\hat{a}_i^\\dagger\\big/\\sqrt{2}\\big) |0\\rangle = |2_i\\rangle, \\ i = 1,2,3$. We focus on the parameter regime $U=10J$."
   ]
  },
  {
   "cell_type": "markdown",
   "id": "21cdae14",
   "metadata": {},
   "source": [
    "## Question 1:\n",
    "\n",
    "List all 6 states of the Hilbert space. How many states there would be for a generic chain of length $N$?"
   ]
  },
  {
   "cell_type": "markdown",
   "id": "1d22099b",
   "metadata": {},
   "source": [
    "## Question 2:\n",
    "\n",
    "Implement the Hamiltonian matrix, diagonalize it numerically and plot the energy spectrum. Which states correspond to $|d_i\\rangle$?"
   ]
  },
  {
   "cell_type": "markdown",
   "id": "c121f53d",
   "metadata": {},
   "source": [
    "## Question 3:\n",
    "\n",
    "We consider the hopping term ($J$) of the Hamiltonian as a perturbation and the doublons $|d_i\\rangle$ as degenerate states. Derive the doublon energies up to second order using degenerate perturbation theory and verify with the previous numerical result."
   ]
  },
  {
   "cell_type": "markdown",
   "id": "4e8a46df",
   "metadata": {},
   "source": [
    "## Question 4:\n",
    "\n",
    "A doublon can be pictured as a (composite) free particle moving with hopping $J' = -2J^2/U$. Can you see that from the previous result?"
   ]
  },
  {
   "cell_type": "markdown",
   "id": "091da82a",
   "metadata": {},
   "source": [
    "## Question 5:\n",
    "\n",
    "At time $t=0$, a doublon $|d_i\\rangle$ is prepared in the middle site $i=2$. Evolve the state with the Bose-Hubbard Hamiltonian and check that the dynamics corresponds to the one of a single particle with hopping $J'$ (for example by computing $\\langle\\hat{n}_i\\rangle(t)$, for $i=2$)."
   ]
  },
  {
   "cell_type": "markdown",
   "id": "3498bfec",
   "metadata": {},
   "source": [
    "## Question 6:\n",
    "\n",
    "Verify whether the results for the quantum walk derived in class for a free particle hold for a doublon."
   ]
  }
 ],
 "metadata": {
  "kernelspec": {
   "display_name": "Python 3",
   "language": "python",
   "name": "python3"
  },
  "language_info": {
   "codemirror_mode": {
    "name": "ipython",
    "version": 3
   },
   "file_extension": ".py",
   "mimetype": "text/x-python",
   "name": "python",
   "nbconvert_exporter": "python",
   "pygments_lexer": "ipython3",
   "version": "3.8.8"
  }
 },
 "nbformat": 4,
 "nbformat_minor": 5
}
